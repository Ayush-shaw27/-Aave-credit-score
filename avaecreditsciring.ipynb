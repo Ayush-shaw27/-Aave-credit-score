{
 "cells": [
  {
   "cell_type": "code",
   "execution_count": null,
   "id": "a00aadf0",
   "metadata": {},
   "outputs": [
    {
     "name": "stdout",
     "output_type": "stream",
     "text": [
      "                                    _id  \\\n",
      "0  {'$oid': '681d38fed63812d4655f571a'}   \n",
      "1  {'$oid': '681aa70dd6df53021cc6f3c0'}   \n",
      "2  {'$oid': '681d04c2d63812d4654c733e'}   \n",
      "3  {'$oid': '681d133bd63812d46551b6ef'}   \n",
      "4  {'$oid': '681899e4ba49fc91cf2f4454'}   \n",
      "\n",
      "                                   userWallet  network protocol  \\\n",
      "0  0x00000000001accfa9cef68cf5371a23025b6d4b6  polygon  aave_v2   \n",
      "1  0x000000000051d07a4fb3bd10121a343d85818da6  polygon  aave_v2   \n",
      "2  0x000000000096026fb41fc39f9875d164bd82e2dc  polygon  aave_v2   \n",
      "3  0x000000000096026fb41fc39f9875d164bd82e2dc  polygon  aave_v2   \n",
      "4  0x0000000000e189dd664b9ab08a33c4839953852c  polygon  aave_v2   \n",
      "\n",
      "                                              txHash  \\\n",
      "0  0x695c69acf608fbf5d38e48ca5535e118cc213a89e3d6...   \n",
      "1  0xe6fc162c86b2928b0ba9b82bda672763665152b9de9d...   \n",
      "2  0xe2d7eb815c89331a734ed6f204a06c385a1b39040baa...   \n",
      "3  0x0d63a2eacd82b82f868db825ea7385e6bd8d046ee729...   \n",
      "4  0x590eabb812c5006a6f4766f44e6e9d3ad0b5b563de69...   \n",
      "\n",
      "                                               logId   timestamp  blockNumber  \\\n",
      "0  0x695c69acf608fbf5d38e48ca5535e118cc213a89e3d6...  1629178166   1629178166   \n",
      "1  0xe6fc162c86b2928b0ba9b82bda672763665152b9de9d...  1621525013   1621525013   \n",
      "2  0xe2d7eb815c89331a734ed6f204a06c385a1b39040baa...  1627118913   1627118913   \n",
      "3  0x0d63a2eacd82b82f868db825ea7385e6bd8d046ee729...  1627773318   1627773318   \n",
      "4  0x590eabb812c5006a6f4766f44e6e9d3ad0b5b563de69...  1618845907   1618845907   \n",
      "\n",
      "             action                                         actionData  __v  \\\n",
      "0           deposit  {'type': 'Deposit', 'amount': '2000000000', 'a...    0   \n",
      "1           deposit  {'type': 'Deposit', 'amount': '145000000000000...    0   \n",
      "2           deposit  {'type': 'Deposit', 'amount': '100000000000000...    0   \n",
      "3           deposit  {'type': 'Deposit', 'amount': '400000000000000...    0   \n",
      "4  redeemunderlying  {'type': 'RedeemUnderlying', 'amount': '501548...    0   \n",
      "\n",
      "                               createdAt  \\\n",
      "0  {'$date': '2025-05-08T23:06:39.465Z'}   \n",
      "1  {'$date': '2025-05-07T00:19:26.159Z'}   \n",
      "2  {'$date': '2025-05-08T19:23:47.877Z'}   \n",
      "3  {'$date': '2025-05-08T20:25:33.141Z'}   \n",
      "4  {'$date': '2025-05-05T10:58:45.934Z'}   \n",
      "\n",
      "                               updatedAt  \n",
      "0  {'$date': '2025-05-08T23:06:39.465Z'}  \n",
      "1  {'$date': '2025-05-07T00:19:26.159Z'}  \n",
      "2  {'$date': '2025-05-08T19:23:47.877Z'}  \n",
      "3  {'$date': '2025-05-08T20:25:33.141Z'}  \n",
      "4  {'$date': '2025-05-05T10:58:45.934Z'}  \n"
     ]
    }
   ],
   "source": [
    "import pandas as pd\n",
    "import json\n",
    "with open(r\"D:\\shaha\\Documents\\python progams\\AaveCreditScoring\\user-wallet-transactions.json\\user-wallet-transactions.json\", \"r\") as f:\n",
    "    data = json.load(f)\n",
    "\n",
    "df = pd.DataFrame(data)\n",
    "print(df.head())"
   ]
  },
  {
   "cell_type": "code",
   "execution_count": 10,
   "id": "d65e9fce",
   "metadata": {},
   "outputs": [],
   "source": [
    "df['wallet'] = df['userWallet']\n",
    "df['action'] = df['action']\n",
    "df['timestamp'] = pd.to_datetime(df['timestamp'], unit='s')\n",
    "df['amount'] = df['actionData'].apply(lambda x: float(x.get('amount', 0)))\n",
    "df['price'] = df['actionData'].apply(lambda x: float(x.get('assetPriceUSD', 0)))\n",
    "df['usd_value'] = df['amount'] * df['price']\n"
   ]
  },
  {
   "cell_type": "code",
   "execution_count": 11,
   "id": "4f3c1676",
   "metadata": {},
   "outputs": [],
   "source": [
    "features = df.groupby('wallet').agg(\n",
    "    tx=('action', 'count'),\n",
    "    deposits=('action', lambda x: (x == 'deposit').sum()),\n",
    "    borrows=('action', lambda x: (x == 'borrow').sum()),\n",
    "    repayments=('action', lambda x: (x == 'repay').sum()),\n",
    "    liquidations=('action', lambda x: (x == 'liquidationcall').sum()),\n",
    "    total_deposit_usd=('usd_value', lambda x: x[df['action'] == 'deposit'].sum()),\n",
    "    total_borrow_usd=('usd_value', lambda x: x[df['action'] == 'borrow'].sum()),\n",
    "    total_repay_usd=('usd_value', lambda x: x[df['action'] == 'repay'].sum()),\n",
    "    first_tx_time=('timestamp', 'min'),\n",
    "    last_tx_time=('timestamp', 'max'),\n",
    ").reset_index()\n",
    "\n",
    "# Time span in days\n",
    "features['activity_days'] = (features['last_tx_time'] - features['first_tx_time']).dt.days + 1\n"
   ]
  },
  {
   "cell_type": "code",
   "execution_count": 12,
   "id": "16f23711",
   "metadata": {},
   "outputs": [],
   "source": [
    "from sklearn.ensemble import RandomForestRegressor\n",
    "from sklearn.preprocessing import MinMaxScaler\n",
    "\n",
    "# Drop non-numeric and nulls\n",
    "model_features = features.select_dtypes(include=['number']).drop(columns=['activity_days'])\n",
    "model_features = model_features.fillna(0)\n",
    "\n",
    "# Model (unsupervised scoring simulation)\n",
    "model = RandomForestRegressor(n_estimators=50, random_state=42)\n",
    "model.fit(model_features, model_features.sum(axis=1))\n",
    "\n",
    "# Score = model output normalized to 0–1000\n",
    "raw_scores = model.predict(model_features)\n",
    "scaled_scores = MinMaxScaler(feature_range=(0, 1000)).fit_transform(raw_scores.reshape(-1, 1)).flatten()\n",
    "features['credit_score'] = scaled_scores.astype(int)\n",
    "# Save the features with credit scores\n",
    "features.to_csv('user_credit_scores.csv', index=False)"
   ]
  }
 ],
 "metadata": {
  "kernelspec": {
   "display_name": "Python 3",
   "language": "python",
   "name": "python3"
  },
  "language_info": {
   "codemirror_mode": {
    "name": "ipython",
    "version": 3
   },
   "file_extension": ".py",
   "mimetype": "text/x-python",
   "name": "python",
   "nbconvert_exporter": "python",
   "pygments_lexer": "ipython3",
   "version": "3.13.5"
  }
 },
 "nbformat": 4,
 "nbformat_minor": 5
}
